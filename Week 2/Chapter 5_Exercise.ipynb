{
 "cells": [
  {
   "cell_type": "code",
   "execution_count": 1,
   "id": "3b5258ce",
   "metadata": {},
   "outputs": [
    {
     "name": "stdout",
     "output_type": "stream",
     "text": [
      "Enter a number: 4\n",
      "Enter a number: 5\n",
      "Enter a number: bad data\n",
      "Invalid input\n",
      "Enter a number: 7\n",
      "Enter a number: done\n",
      "16 3 5.333333333333333\n"
     ]
    }
   ],
   "source": [
    "# Exercise 1: Write a program which repeatedly reads numbers until the \n",
    "# user enters “done”. Once “done” is entered, print out the total, count,\n",
    "# and average of the numbers. If the user enters anything other than a\n",
    "# number, detect their mistake using try and except and print an error\n",
    "# message and skip to the next number.\n",
    "\n",
    "#            Expected results.\n",
    "\n",
    "#                  Enter a number: 4\n",
    "#                  Enter a number: 5\n",
    "#                  Enter a number: bad data\n",
    "#                  Invalid input\n",
    "#                  Enter a number: 7\n",
    "#                  Enter a number: done\n",
    "#                 16 3 5.333333333333333\n",
    "\n",
    "array = []\n",
    "\n",
    "while 1:\n",
    "    \n",
    "    data = input(\"Enter a number: \")\n",
    "        \n",
    "    if data == \"done\":\n",
    "        \n",
    "        count = 0\n",
    "        summ = 0\n",
    "        for i in array:\n",
    "            \n",
    "            summ += i\n",
    "            count += 1\n",
    "        \n",
    "     \n",
    "        print(summ, count, summ/count)\n",
    "        break\n",
    "        \n",
    "    else:\n",
    "        \n",
    "        try:\n",
    "            \n",
    "            data = int(data)\n",
    "            array.append(data)\n",
    "            \n",
    "        except:\n",
    "            \n",
    "            print(\"Invalid input\")\n",
    "            continue\n",
    "\n",
    "    \n",
    "        \n",
    "    "
   ]
  },
  {
   "cell_type": "code",
   "execution_count": 3,
   "id": "25bddb26",
   "metadata": {},
   "outputs": [
    {
     "name": "stdout",
     "output_type": "stream",
     "text": [
      "Enter a number: 4\n",
      "Enter a number: 5\n",
      "Enter a number: 7\n",
      "Enter a number: done\n",
      "16 3 7 4\n"
     ]
    }
   ],
   "source": [
    "# Write another program that prompts for a list of numbers as above and at the end prints out both \n",
    "# the maximum and minimum of the numbers instead of the average\n",
    "\n",
    "array = []\n",
    "\n",
    "while 1:\n",
    "    \n",
    "    data = input(\"Enter a number: \")\n",
    "        \n",
    "    if data == \"done\":\n",
    "        \n",
    "        count = 0\n",
    "        summ = 0\n",
    "        \n",
    "        for i in array:\n",
    "            \n",
    "            summ += i\n",
    "            count += 1\n",
    "     \n",
    "        print(summ, count, max(array), min(array))\n",
    "        break\n",
    "        \n",
    "    else:\n",
    "        \n",
    "        try:\n",
    "            \n",
    "            data = int(data)\n",
    "            array.append(data)\n",
    "            \n",
    "        except:\n",
    "            \n",
    "            print(\"Invalid input\")\n",
    "            continue\n"
   ]
  },
  {
   "cell_type": "code",
   "execution_count": null,
   "id": "14d442de",
   "metadata": {},
   "outputs": [],
   "source": []
  }
 ],
 "metadata": {
  "kernelspec": {
   "display_name": "Python 3 (ipykernel)",
   "language": "python",
   "name": "python3"
  },
  "language_info": {
   "codemirror_mode": {
    "name": "ipython",
    "version": 3
   },
   "file_extension": ".py",
   "mimetype": "text/x-python",
   "name": "python",
   "nbconvert_exporter": "python",
   "pygments_lexer": "ipython3",
   "version": "3.10.5"
  }
 },
 "nbformat": 4,
 "nbformat_minor": 5
}
