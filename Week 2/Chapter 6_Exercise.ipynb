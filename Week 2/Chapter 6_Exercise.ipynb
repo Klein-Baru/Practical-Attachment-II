{
 "cells": [
  {
   "cell_type": "code",
   "execution_count": 12,
   "id": "7bee1c14",
   "metadata": {},
   "outputs": [
    {
     "name": "stdout",
     "output_type": "stream",
     "text": [
      "0.8475\n"
     ]
    }
   ],
   "source": [
    "# Exercise 5: Take the following Python code that stores a string:\n",
    "\n",
    "#                   str = 'X-DSPAM-Confidence:0.8475'\n",
    "\n",
    "# Use find and string slicing to extract the portion of the string after the colon character \n",
    "# and then use the float function to convert the extracted string into a floating point number.\n",
    "\n",
    "str = 'X-DSPAM-Confidence:0.8475'\n",
    "first_pos = str.find(\"0\")\n",
    "last_pos = str.find(\"5\") + 1 \n",
    "extracted_data = str[first_pos:last_pos]\n",
    "print(float(extracted_data))\n"
   ]
  },
  {
   "cell_type": "code",
   "execution_count": null,
   "id": "09e577ac",
   "metadata": {},
   "outputs": [],
   "source": []
  }
 ],
 "metadata": {
  "kernelspec": {
   "display_name": "Python 3 (ipykernel)",
   "language": "python",
   "name": "python3"
  },
  "language_info": {
   "codemirror_mode": {
    "name": "ipython",
    "version": 3
   },
   "file_extension": ".py",
   "mimetype": "text/x-python",
   "name": "python",
   "nbconvert_exporter": "python",
   "pygments_lexer": "ipython3",
   "version": "3.10.5"
  }
 },
 "nbformat": 4,
 "nbformat_minor": 5
}
