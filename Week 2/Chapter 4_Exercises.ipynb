{
 "cells": [
  {
   "cell_type": "code",
   "execution_count": 2,
   "id": "9603a952",
   "metadata": {
    "scrolled": true
   },
   "outputs": [],
   "source": [
    "# Exercise 4: What is the purpose of the “def” keyword in Python?\n",
    "#            a) It is slang that means “the following code is really cool”\n",
    "#            b) It indicates the start of a function\n",
    "#            c) It indicates that the following indented section of code is to be stored for later\n",
    "#            d) b and c are both true\n",
    "#            e) None of the above\n",
    "\n",
    "#  d)"
   ]
  },
  {
   "cell_type": "code",
   "execution_count": 3,
   "id": "ff35908a",
   "metadata": {},
   "outputs": [],
   "source": [
    "# Exercise 5: What will the following Python program print out?\n",
    "#                    def fred():\n",
    "#                    print(\"Zap\")\n",
    "#                    def jane():\n",
    "#                    print(\"ABC\")\n",
    "\n",
    "#                    jane()\n",
    "#                    fred()\n",
    "#                    jane()\n",
    "\n",
    "#                   a) Zap ABC jane fred jane\n",
    "#                   b) Zap ABC Zap\n",
    "#                   c) ABC Zap jane\n",
    "#                   d) ABC Zap ABC\n",
    "#                   e) Zap Zap Zap\n",
    "\n",
    "# d)\n"
   ]
  },
  {
   "cell_type": "code",
   "execution_count": 8,
   "id": "cda2d05a",
   "metadata": {},
   "outputs": [
    {
     "name": "stdout",
     "output_type": "stream",
     "text": [
      "Enter Hours: 45\n",
      "Enter Rate: 10\n",
      "Pay: 475.0\n"
     ]
    }
   ],
   "source": [
    "# Exercise 6: Rewrite your pay computation with time-and-a-half for over-time \n",
    "# and create a function called computepay which takes two parameters(hours and rate).\n",
    "\n",
    "# Expected results.\n",
    "            \n",
    "#            Enter Hours: 45\n",
    "#            Enter Rate: 10\n",
    "#            Pay: 475.0\n",
    "\n",
    "def computepay(hrs, rate):\n",
    "    \n",
    "    if hrs <= 40:\n",
    "        print(\"Pay: \"+ str(hrs * rate))\n",
    "    \n",
    "    if hrs > 40:\n",
    "    \n",
    "        pay = 40 * rate\n",
    "        a = hrs - 40\n",
    "        over40hrs_pay = a * (1.5 * rate)\n",
    "        pay = over40hrs_pay + pay\n",
    "        print(\"Pay: \"+ str(pay)) \n",
    "        \n",
    "hrs = float(input(\"Enter Hours: \"))\n",
    "rate = float(input(\"Enter Rate: \"))\n",
    "computepay(hrs,rate)\n"
   ]
  },
  {
   "cell_type": "code",
   "execution_count": 12,
   "id": "7ea6f7f2",
   "metadata": {},
   "outputs": [
    {
     "name": "stdout",
     "output_type": "stream",
     "text": [
      "Enter score: perfect\n",
      "Bad score\n"
     ]
    }
   ],
   "source": [
    "# Exercise 3: Write a program to prompt for a score between 0.0 and1.0. If the score is out of range, print an error message. \n",
    "# If the score is between 0.0 and 1.0, print a grade using the following table:\n",
    "#                    Score Grade\n",
    "#                    >= 0.9 A\n",
    "#                    >= 0.8 B\n",
    "#                    >= 0.7 C\n",
    "#                    >= 0.6 D\n",
    "#                    < 0.6 F\n",
    "\n",
    "def computegrade(score):\n",
    "    try:\n",
    "        score = float(score)\n",
    "        if 0.0 < score < 1.0:\n",
    "\n",
    "            if score >= 0.9:  \n",
    "                print(\"A\")\n",
    "\n",
    "            if  0.8 <= score < 0.9:\n",
    "                print(\"B\")\n",
    "\n",
    "            if  0.7 <= score < 0.8:\n",
    "                print(\"C\")\n",
    "\n",
    "            if  0.6 <= score < 0.7:\n",
    "                print(\"D\")\n",
    "\n",
    "            if score < 0.6:\n",
    "                print(\"F\")\n",
    "\n",
    "        else:\n",
    "            print(\"Bad Score\")\n",
    "\n",
    "    except:\n",
    "        print(\"Bad score\")\n",
    "\n",
    "score = input(\"Enter score: \")\n",
    "computegrade(score)"
   ]
  }
 ],
 "metadata": {
  "kernelspec": {
   "display_name": "Python 3 (ipykernel)",
   "language": "python",
   "name": "python3"
  },
  "language_info": {
   "codemirror_mode": {
    "name": "ipython",
    "version": 3
   },
   "file_extension": ".py",
   "mimetype": "text/x-python",
   "name": "python",
   "nbconvert_exporter": "python",
   "pygments_lexer": "ipython3",
   "version": "3.10.5"
  }
 },
 "nbformat": 4,
 "nbformat_minor": 5
}
