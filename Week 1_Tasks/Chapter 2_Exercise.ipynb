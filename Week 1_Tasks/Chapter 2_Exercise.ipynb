{
 "cells": [
  {
   "cell_type": "code",
   "execution_count": 6,
   "id": "f794a369",
   "metadata": {
    "scrolled": true
   },
   "outputs": [
    {
     "name": "stdout",
     "output_type": "stream",
     "text": [
      "Enter your name: Chuck\n",
      "Hello Chuck\n"
     ]
    }
   ],
   "source": [
    "# Exercise 2: Write a program that uses input to prompt a user for theirname and then welcomes them.\n",
    "\n",
    "name = input(\"Enter your name: \")\n",
    "print(\"Hello \" + name)\n"
   ]
  },
  {
   "cell_type": "code",
   "execution_count": 4,
   "id": "b15f8abd",
   "metadata": {},
   "outputs": [
    {
     "name": "stdout",
     "output_type": "stream",
     "text": [
      "Enter Hours: 35\n",
      "Enter Rate: 2.75\n",
      "Pay: 96.25\n"
     ]
    }
   ],
   "source": [
    "#Exercise 3: Write a program to prompt the user for hours and rate per hour to compute gross pay.\n",
    "\n",
    "hrs = float(input(\"Enter Hours: \"))\n",
    "rate = float(input(\"Enter Rate: \"))\n",
    "print(\"Pay: \"+ str(hrs * rate))   "
   ]
  },
  {
   "cell_type": "code",
   "execution_count": 13,
   "id": "c1141e61",
   "metadata": {},
   "outputs": [
    {
     "name": "stdout",
     "output_type": "stream",
     "text": [
      "8 <class 'int'>\n",
      "8.5 <class 'float'>\n",
      "4.0 <class 'float'>\n",
      "11 <class 'int'>\n"
     ]
    }
   ],
   "source": [
    "# Exercise 4: Assume that we execute the following assignment statements:\n",
    "#     width = 17\n",
    "#     height = 12.0\n",
    "# For each of the following expressions, write the value of the expression,\n",
    "# and the type (of the value of the expression).\n",
    "#                1. width//2\n",
    "#                2. width/2.0\n",
    "#                3. height/3\n",
    "#                4. 1 + 2 * 5\n",
    "\n",
    "width = 17\n",
    "height = 12.0\n",
    "\n",
    "print(width//2, type(width//2))\n",
    "print(width/2.0, type(width/2.0))\n",
    "print(height//3, type(height//3))\n",
    "print(1+2*5, type(1+2*5))"
   ]
  },
  {
   "cell_type": "code",
   "execution_count": 5,
   "id": "10d4c981",
   "metadata": {},
   "outputs": [
    {
     "name": "stdout",
     "output_type": "stream",
     "text": [
      "Enter temp. in degrees celsius: 100\n",
      "The temperature in degrees Fahrenheit is: 212.0\n"
     ]
    }
   ],
   "source": [
    "# Exercise 5: Write a program which prompts the user for a Celsius tem-perature, \n",
    "# convert the temperature to Fahrenheit, and print out the converted temperature.\n",
    "\n",
    "celcius = float(input(\"Enter temp. in degrees celsius: \"))\n",
    "fahrenheit = print(\"The temperature in degrees Fahrenheit is: \" + str(((9 * celcius) / 5) + 32  ))\n",
    "\n"
   ]
  }
 ],
 "metadata": {
  "kernelspec": {
   "display_name": "Python 3 (ipykernel)",
   "language": "python",
   "name": "python3"
  },
  "language_info": {
   "codemirror_mode": {
    "name": "ipython",
    "version": 3
   },
   "file_extension": ".py",
   "mimetype": "text/x-python",
   "name": "python",
   "nbconvert_exporter": "python",
   "pygments_lexer": "ipython3",
   "version": "3.10.5"
  }
 },
 "nbformat": 4,
 "nbformat_minor": 5
}
