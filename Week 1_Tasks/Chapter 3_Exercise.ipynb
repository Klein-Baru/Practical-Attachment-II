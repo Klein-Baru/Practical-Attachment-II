{
 "cells": [
  {
   "cell_type": "code",
   "execution_count": 1,
   "id": "dc383337",
   "metadata": {},
   "outputs": [
    {
     "name": "stdout",
     "output_type": "stream",
     "text": [
      "Enter Hours: 45\n",
      "Enter Rate: 10\n",
      "Pay: 475.0\n"
     ]
    }
   ],
   "source": [
    "# Exercise 1: Re-write your pay computation to give the employee 1.5times the hourly rate for hours worked above 40 hours.\n",
    "\n",
    "hrs = float(input(\"Enter Hours: \"))\n",
    "rate = float(input(\"Enter Rate: \"))\n",
    "\n",
    "if hrs <= 40:\n",
    "    print(\"Pay: \"+ str(hrs * rate))\n",
    "    \n",
    "if hrs > 40:\n",
    "    \n",
    "    pay = 40 * rate\n",
    "    a = hrs - 40\n",
    "    over40hrs_pay = a * (1.5 * rate)\n",
    "    pay = over40hrs_pay + pay\n",
    "    print(\"Pay: \"+ str(pay)) \n"
   ]
  },
  {
   "cell_type": "code",
   "execution_count": 4,
   "id": "281280e4",
   "metadata": {},
   "outputs": [
    {
     "name": "stdout",
     "output_type": "stream",
     "text": [
      "Enter Hours: 20\n",
      "Enter Rate: nine\n",
      "Error, please enter numeric input\n"
     ]
    }
   ],
   "source": [
    "# Exercise 2: Rewrite your pay program using try and except so that yourprogram handles non-numeric input gracefully by printing a message\n",
    "# and exiting the program. The following shows two executions of theprogram:\n",
    "\n",
    "\n",
    "try:\n",
    "    \n",
    "    hrs = float(input(\"Enter Hours: \"))\n",
    "    rate = float(input(\"Enter Rate: \"))\n",
    "    print(\"Pay: \"+ str(round(hrs * rate)))\n",
    "    \n",
    "except:\n",
    "    \n",
    "    print(\"Error, please enter numeric input\")\n",
    "    "
   ]
  },
  {
   "cell_type": "code",
   "execution_count": 21,
   "id": "db7f69a8",
   "metadata": {},
   "outputs": [
    {
     "name": "stdout",
     "output_type": "stream",
     "text": [
      "Enter score: 0.5\n",
      "F\n"
     ]
    }
   ],
   "source": [
    "# Exercise 3: Write a program to prompt for a score between 0.0 and1.0. If the score is out of range, print an error message. \n",
    "# If the score is between 0.0 and 1.0, print a grade using the following table:\n",
    "#                    Score Grade\n",
    "#                    >= 0.9 A\n",
    "#                    >= 0.8 B\n",
    "#                    >= 0.7 C\n",
    "#                    >= 0.6 D\n",
    "#                    < 0.6 F\n",
    "\n",
    "try:\n",
    "    score = float(input(\"Enter score: \"))\n",
    "    if 0.0 < score < 1.0:\n",
    "\n",
    "        if score >= 0.9:  \n",
    "            print(\"A\")\n",
    "\n",
    "        if  0.8 <= score < 0.9:\n",
    "            print(\"B\")\n",
    "\n",
    "        if  0.7 <= score < 0.8:\n",
    "            print(\"C\")\n",
    "\n",
    "        if  0.6 <= score < 0.7:\n",
    "            print(\"D\")\n",
    "\n",
    "        if score < 0.6:\n",
    "            print(\"F\")\n",
    "            \n",
    "    else:\n",
    "        print(\"Bad Score\")\n",
    "\n",
    "except:\n",
    "    print(\"Bad score\")\n",
    "        \n",
    "        "
   ]
  }
 ],
 "metadata": {
  "kernelspec": {
   "display_name": "Python 3 (ipykernel)",
   "language": "python",
   "name": "python3"
  },
  "language_info": {
   "codemirror_mode": {
    "name": "ipython",
    "version": 3
   },
   "file_extension": ".py",
   "mimetype": "text/x-python",
   "name": "python",
   "nbconvert_exporter": "python",
   "pygments_lexer": "ipython3",
   "version": "3.10.5"
  }
 },
 "nbformat": 4,
 "nbformat_minor": 5
}
